{
 "cells": [
  {
   "cell_type": "markdown",
   "id": "69423727",
   "metadata": {},
   "source": [
    "# Step 1. Import Libraries and Load the Data\n",
    "Import all the required modules. Then read in required files."
   ]
  },
  {
   "cell_type": "code",
   "execution_count": 1,
   "id": "00ed8f66",
   "metadata": {},
   "outputs": [],
   "source": [
    "# Built in libraries\n",
    "import json\n",
    "import random\n",
    "import pickle\n",
    "import tkinter\n",
    "from tkinter import *\n",
    "import textwrap\n",
    "\n",
    "# 3rd party libraries\n",
    "import nltk\n",
    "import numpy as np\n",
    "from nltk.stem import WordNetLemmatizer\n",
    "lemmatizer = WordNetLemmatizer()\n",
    "from keras.models import load_model\n",
    "model = load_model('chatbot_model.h5')\n",
    "\n",
    "intents = json.loads(open('intents.json').read())\n",
    "words = pickle.load(open('words.pkl','rb'))\n",
    "classes = pickle.load(open('classes.pkl','rb'))"
   ]
  },
  {
   "cell_type": "markdown",
   "id": "b78ac43d",
   "metadata": {},
   "source": [
    "# Step 2. Define Processing Functions\n",
    "Define functions necessary to process the user's message before inputting it into the model, as well as functions necessary to make predictions and get a response."
   ]
  },
  {
   "cell_type": "code",
   "execution_count": 2,
   "id": "2760cf37",
   "metadata": {},
   "outputs": [],
   "source": [
    "# create a data structure to hold user context\n",
    "context = []\n",
    "\n",
    "# tokenize the sentence, then lemmaztize and lower each word and remove duplicates\n",
    "def clean_up_sentence(sentence):\n",
    "    sentence_words = nltk.word_tokenize(sentence)\n",
    "    sentence_words = [lemmatizer.lemmatize(word.lower()) for word in sentence_words]\n",
    "    return sentence_words\n",
    "\n",
    "# return bag of words array: 0 or 1 for words that exist in sentence\n",
    "def bag_of_words(sentence, words, show_details=True):\n",
    "    # tokenizing patterns\n",
    "    sentence_words = clean_up_sentence(sentence)\n",
    "    # initializing bag of words\n",
    "    bag = [0]*len(words)  \n",
    "    # set the index of a word in the bag of words to 1, if the respective word is found in the sentence\n",
    "    for s in sentence_words:\n",
    "        for i,word in enumerate(words):\n",
    "            if word == s: \n",
    "                bag[i] = 1\n",
    "                if show_details:\n",
    "                    print (\"found in bag: %s\" % word)\n",
    "    return(np.array(bag))\n",
    "\n",
    "def predict_class(sentence):\n",
    "    # filter below  threshold predictions\n",
    "    p = bag_of_words(sentence, words,show_details=False)\n",
    "    res = model.predict(np.array([p]))[0]\n",
    "    ERROR_THRESHOLD = 0.70\n",
    "    results = [[i,r] for i,r in enumerate(res) if r>ERROR_THRESHOLD]\n",
    "    # sorting strength probability\n",
    "    results.sort(key=lambda x: x[1], reverse=True)\n",
    "    return_list = []\n",
    "    for r in results:\n",
    "        return_list.append({\"intent\": classes[r[0]], \"probability\": r[1]})\n",
    "    return return_list\n",
    "\n",
    "# the \"ints\" parameter is the output of the predict_class() function\n",
    "def getResponse(ints, intents_json):\n",
    "    # Check if the sentence is part of a context or has an intent\n",
    "    if context:\n",
    "        tag = context.pop()[0]\n",
    "    elif not ints:\n",
    "        tag = 'noanswer'\n",
    "    else:\n",
    "        # null threshold is the accuracy predicted for sentences making no sense\n",
    "        # (ie, numbers, different languages, troll messages, etc)\n",
    "        if (NULL_THRESHOLD-0.000001<ints[0]['probability']<NULL_THRESHOLD+0.000001):\n",
    "            tag = 'noanswer'\n",
    "        else:\n",
    "            tag = ints[0]['intent']\n",
    "    list_of_intents = intents_json['intents']\n",
    "    for i in list_of_intents:\n",
    "        if(i['tag'] == tag):\n",
    "            result = random.choice(i['responses'])\n",
    "            if i['context'] != [\"\"]:\n",
    "                context.append(i['context'])\n",
    "    return result\n",
    "\n",
    "# null threshold is the accuracy predicted for sentences making no sense\n",
    "# (ie, numbers, different languages, troll messages, etc)\n",
    "# this probability is outputted below\n",
    "NULL_THRESHOLD = predict_class(\"12345\")[0]['probability']"
   ]
  },
  {
   "cell_type": "markdown",
   "id": "03c7a658",
   "metadata": {},
   "source": [
    "## Examples\n",
    "Below are some examples for how the chatbot responds to messages."
   ]
  },
  {
   "cell_type": "code",
   "execution_count": 3,
   "id": "80efb245",
   "metadata": {},
   "outputs": [
    {
     "name": "stdout",
     "output_type": "stream",
     "text": [
      "You: Hello\n",
      "Bot: Hi there, how can I help?\n"
     ]
    }
   ],
   "source": [
    "msg = \"Hello\"\n",
    "ints = predict_class(msg)\n",
    "res = getResponse(ints, intents)\n",
    "print(textwrap.fill(\"You: \" + msg, 125))\n",
    "print(textwrap.fill(\"Bot: \" + res, 125))"
   ]
  },
  {
   "cell_type": "code",
   "execution_count": 4,
   "id": "cbcece39",
   "metadata": {},
   "outputs": [
    {
     "name": "stdout",
     "output_type": "stream",
     "text": [
      "You: How does Zelle work?\n",
      "Bot: Zelle is an easy way to send money directly between almost any U.S. bank accounts typically within minutes. With just an\n",
      "email address or mobile phone number, you can quickly, safely and easily send  and receive money with more people, regardless\n",
      "of where they bank.\n"
     ]
    }
   ],
   "source": [
    "msg = \"How does Zelle work?\"\n",
    "ints = predict_class(msg)\n",
    "res = getResponse(ints, intents)\n",
    "print(textwrap.fill(\"You: \" + msg, 125))\n",
    "print(textwrap.fill(\"Bot: \" + res, 125))"
   ]
  },
  {
   "cell_type": "code",
   "execution_count": 5,
   "id": "5258b4bf",
   "metadata": {},
   "outputs": [
    {
     "name": "stdout",
     "output_type": "stream",
     "text": [
      "You: Does Zelle cost anything?\n",
      "Bot: Zelle doesn't charge a fee to send or receive money. We recommend confirming with your bank or credit union that there\n",
      "are no additional fees.\n"
     ]
    }
   ],
   "source": [
    "msg = \"Does Zelle cost anything?\"\n",
    "ints = predict_class(msg)\n",
    "res = getResponse(ints, intents)\n",
    "print(textwrap.fill(\"You: \" + msg, 125))\n",
    "print(textwrap.fill(\"Bot: \" + res, 125))"
   ]
  },
  {
   "cell_type": "code",
   "execution_count": 6,
   "id": "f53287f4",
   "metadata": {},
   "outputs": [
    {
     "name": "stdout",
     "output_type": "stream",
     "text": [
      "You: How long does it take to send money?\n",
      "Bot: Money sent with Zelle is typically available to an enrolled recipient within minutes. If it has been more than three\n",
      "days, please confirm you have fully enrolled your Zelle profile, and that you entered the correct email address or number. If\n",
      "you're using Zelle through your bank or credit union's app or website, please check with them for help.\n"
     ]
    }
   ],
   "source": [
    "msg = \"How long does it take to send money?\"\n",
    "ints = predict_class(msg)\n",
    "res = getResponse(ints, intents)\n",
    "print(textwrap.fill(\"You: \" + msg, 125))\n",
    "print(textwrap.fill(\"Bot: \" + res, 125))"
   ]
  },
  {
   "cell_type": "code",
   "execution_count": 7,
   "id": "19fde7ee",
   "metadata": {},
   "outputs": [
    {
     "name": "stdout",
     "output_type": "stream",
     "text": [
      "You: Can I use Zelle on my computer instead of my phone?\n",
      "Bot: If your bank or credit union offers Zelle, you may be able to use their online banking site to send and receive money\n",
      "without a mobile device. If your bank or credit union does not offer Zelle, then you must have a smartphone in order to\n",
      "access the Zelle app to send and receive money.\n"
     ]
    }
   ],
   "source": [
    "msg = \"Can I use Zelle on my computer instead of my phone?\"\n",
    "ints = predict_class(msg)\n",
    "res = getResponse(ints, intents)\n",
    "print(textwrap.fill(\"You: \" + msg, 125))\n",
    "print(textwrap.fill(\"Bot: \" + res, 125))"
   ]
  },
  {
   "cell_type": "code",
   "execution_count": 8,
   "id": "6a4f0f8e",
   "metadata": {},
   "outputs": [
    {
     "name": "stdout",
     "output_type": "stream",
     "text": [
      "You: Can I talk to an employee?\n",
      "Bot: Sure, I'll put you in touch with a team member. Please provide a phone number you would like to be called on.\n",
      "You: 123-456-7890\n",
      "Bot: Thank you, a team member will call you shortly.\n"
     ]
    }
   ],
   "source": [
    "# An examply of a contextual conversation\n",
    "msg = \"Can I talk to an employee?\"\n",
    "ints = predict_class(msg)\n",
    "res = getResponse(ints, intents)\n",
    "print(textwrap.fill(\"You: \" + msg, 125))\n",
    "print(textwrap.fill(\"Bot: \" + res, 125))\n",
    "msg = \"123-456-7890\"\n",
    "ints = predict_class(msg)\n",
    "res = getResponse(ints, intents)\n",
    "print(textwrap.fill(\"You: \" + msg, 125))\n",
    "print(textwrap.fill(\"Bot: \" + res, 125))"
   ]
  },
  {
   "cell_type": "code",
   "execution_count": 9,
   "id": "c5c8228a",
   "metadata": {},
   "outputs": [
    {
     "name": "stdout",
     "output_type": "stream",
     "text": [
      "You: Thanks, bye\n",
      "Bot: My pleasure.\n"
     ]
    }
   ],
   "source": [
    "msg = \"Thanks, bye\"\n",
    "ints = predict_class(msg)\n",
    "res = getResponse(ints, intents)\n",
    "print(textwrap.fill(\"You: \" + msg, 125))\n",
    "print(textwrap.fill(\"Bot: \" + res, 125))"
   ]
  },
  {
   "cell_type": "markdown",
   "id": "44e9f617",
   "metadata": {},
   "source": [
    "# Step 3: Creating GUI\n",
    "Create the chat window and all of its components, including a function for it to send and recieve messages with the use."
   ]
  },
  {
   "cell_type": "code",
   "execution_count": 10,
   "id": "e6627ca6",
   "metadata": {},
   "outputs": [],
   "source": [
    "def send(self=None):\n",
    "    msg = EntryBox.get(\"1.0\",'end-1c').strip()\n",
    "    EntryBox.delete(\"0.0\",END)\n",
    "\n",
    "    if msg != '':\n",
    "        ChatBox.config(state=NORMAL)\n",
    "        ChatBox.insert(END, \"You: \" + msg + '\\n\\n')\n",
    "        ChatBox.config(foreground=\"#446665\", font=(\"Verdana\", 12 )) \n",
    "\n",
    "        ints = predict_class(msg)\n",
    "        res = getResponse(ints, intents)\n",
    "\n",
    "        ChatBox.insert(END, \"Bot: \" + res + '\\n\\n')           \n",
    "\n",
    "        ChatBox.config(state=DISABLED)\n",
    "        ChatBox.yview(END)\n",
    "\n",
    "# initialize Tkinter interpreter and create the root window\n",
    "root = Tk()\n",
    "root.title(\"Chatbot\")\n",
    "root.geometry(\"400x500\")\n",
    "root.resizable(width=FALSE, height=FALSE)\n",
    "\n",
    "# Create Chat window\n",
    "ChatBox = Text(root, bd=0, bg=\"white\", height=\"8\", width=\"50\", font=\"Arial\", wrap=WORD)\n",
    "\n",
    "# chatbox is set to read-only (for now)\n",
    "ChatBox.config(state=DISABLED)\n",
    "\n",
    "# Bind scrollbar to Chat window\n",
    "scrollbar = Scrollbar(root, command=ChatBox.yview, cursor=\"heart\")\n",
    "ChatBox['yscrollcommand'] = scrollbar.set\n",
    "\n",
    "# Create Button to send message\n",
    "SendButton = Button(root, font=(\"Verdana\",12,'bold'), text=\"Send\", width=\"12\", height=5,\n",
    "                    bd=0, bg=\"#f9a602\", activebackground=\"#3c9d9b\",fg='#000000',\n",
    "                    command= send )\n",
    "root.bind(\"<Return>\", send)\n",
    "\n",
    "# Create the box to enter message\n",
    "EntryBox = Text(root, bd=0, bg=\"white\",width=\"29\", height=\"5\", font=\"Arial\", wrap=WORD)\n",
    "\n",
    "# Place all components on the screen\n",
    "scrollbar.place(x=376,y=6, height=386)\n",
    "ChatBox.place(x=6,y=6, height=386, width=370)\n",
    "EntryBox.place(x=128, y=401, height=90, width=265)\n",
    "SendButton.place(x=6, y=401, height=90)\n",
    "\n",
    "# Send the introduction message\n",
    "intro = \"Welcome to Zelle chatbot! I can answer basic questions regarding Zelle, or I can have a team member call you if needed. What would you like help with today?\"\n",
    "ChatBox.config(state=NORMAL)\n",
    "ChatBox.config(foreground=\"#446665\", font=(\"Verdana\", 12 )) \n",
    "ChatBox.insert(END, \"Bot: \" + intro + '\\n\\n')         \n",
    "ChatBox.config(state=DISABLED)\n",
    "ChatBox.yview(END)\n",
    "\n",
    "# run the event loop\n",
    "root.mainloop()"
   ]
  }
 ],
 "metadata": {
  "kernelspec": {
   "display_name": "Python 3 (ipykernel)",
   "language": "python",
   "name": "python3"
  },
  "language_info": {
   "codemirror_mode": {
    "name": "ipython",
    "version": 3
   },
   "file_extension": ".py",
   "mimetype": "text/x-python",
   "name": "python",
   "nbconvert_exporter": "python",
   "pygments_lexer": "ipython3",
   "version": "3.9.7"
  }
 },
 "nbformat": 4,
 "nbformat_minor": 5
}
